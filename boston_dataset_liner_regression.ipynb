{
  "nbformat": 4,
  "nbformat_minor": 0,
  "metadata": {
    "colab": {
      "name": "boston dataset liner regression",
      "provenance": [],
      "authorship_tag": "ABX9TyM12D08aeIjPwIt4gCFiz3R",
      "include_colab_link": true
    },
    "kernelspec": {
      "name": "python3",
      "display_name": "Python 3"
    }
  },
  "cells": [
    {
      "cell_type": "markdown",
      "metadata": {
        "id": "view-in-github",
        "colab_type": "text"
      },
      "source": [
        "<a href=\"https://colab.research.google.com/github/Devanshpundir-code/ML-projects./blob/main/boston_dataset_liner_regression.ipynb\" target=\"_parent\"><img src=\"https://colab.research.google.com/assets/colab-badge.svg\" alt=\"Open In Colab\"/></a>"
      ]
    },
    {
      "cell_type": "markdown",
      "metadata": {
        "id": "Y8kMf9hyAQRz"
      },
      "source": [
        "first we will import some required lib"
      ]
    },
    {
      "cell_type": "code",
      "metadata": {
        "id": "Hrkmoy28AVMg"
      },
      "source": [
        "import sklearn\r\n",
        "import numpy as np\r\n",
        "import pandas as pd\r\n",
        "from sklearn import datasets\r\n",
        "from sklearn import linear_model\r\n",
        "from sklearn.model_selection import train_test_split"
      ],
      "execution_count": 1,
      "outputs": []
    },
    {
      "cell_type": "markdown",
      "metadata": {
        "id": "UqV5MyIGBE0P"
      },
      "source": [
        "importing data (boston)"
      ]
    },
    {
      "cell_type": "code",
      "metadata": {
        "id": "IP7czt47BcgA"
      },
      "source": [
        "boston = datasets.load_boston()\r\n"
      ],
      "execution_count": 2,
      "outputs": []
    },
    {
      "cell_type": "markdown",
      "metadata": {
        "id": "gZ7A5rJ2B257"
      },
      "source": [
        "dataframe"
      ]
    },
    {
      "cell_type": "code",
      "metadata": {
        "id": "bvLA-ESOBkzs"
      },
      "source": [
        "df_x = pd.DataFrame(boston.data, columns=boston.feature_names)\r\n",
        "df_y = pd.DataFrame(boston.target)"
      ],
      "execution_count": 3,
      "outputs": []
    },
    {
      "cell_type": "markdown",
      "metadata": {
        "id": "IoxqdrkeDJqC"
      },
      "source": [
        "splitting data in train and test"
      ]
    },
    {
      "cell_type": "code",
      "metadata": {
        "id": "x1foygJoDPyK"
      },
      "source": [
        "train_x, test_x, train_y, test_y = train_test_split(df_x, df_y, test_size = 0.2, random_state = 4) #test_size=0.2 means train_size will be 0.8 {ratio}"
      ],
      "execution_count": 4,
      "outputs": []
    },
    {
      "cell_type": "markdown",
      "metadata": {
        "id": "XZnlE_FYEPOz"
      },
      "source": [
        "building our regression"
      ]
    },
    {
      "cell_type": "code",
      "metadata": {
        "colab": {
          "base_uri": "https://localhost:8080/"
        },
        "id": "HBnaL6ZlESWW",
        "outputId": "d8c06278-a274-4ff7-879f-4f9b125fba14"
      },
      "source": [
        "reg = linear_model.LinearRegression()\r\n",
        "reg.fit(train_x, train_y)"
      ],
      "execution_count": 5,
      "outputs": [
        {
          "output_type": "execute_result",
          "data": {
            "text/plain": [
              "LinearRegression(copy_X=True, fit_intercept=True, n_jobs=None, normalize=False)"
            ]
          },
          "metadata": {
            "tags": []
          },
          "execution_count": 5
        }
      ]
    },
    {
      "cell_type": "markdown",
      "metadata": {
        "id": "fM4WDJr9FNBP"
      },
      "source": [
        "prediction\r\n"
      ]
    },
    {
      "cell_type": "code",
      "metadata": {
        "id": "5gDFgI7gEqRe"
      },
      "source": [
        "prediction = reg.predict(test_x)"
      ],
      "execution_count": 6,
      "outputs": []
    },
    {
      "cell_type": "code",
      "metadata": {
        "id": "qPe_bMNkFgHv",
        "outputId": "b6f876af-bcbe-4fc0-da1a-b845567bc8de",
        "colab": {
          "base_uri": "https://localhost:8080/"
        }
      },
      "source": [
        "print(\"the prediction is \", prediction[2]) #this is prediction\r\n",
        "print(\"the actual is \", test_y) #this is actuall "
      ],
      "execution_count": 7,
      "outputs": [
        {
          "output_type": "stream",
          "text": [
            "the prediction is  [17.58803353]\n",
            "the actual is          0\n",
            "8    16.5\n",
            "289  24.8\n",
            "68   17.4\n",
            "211  19.3\n",
            "226  37.6\n",
            "..    ...\n",
            "368  50.0\n",
            "144  11.8\n",
            "336  19.5\n",
            "437   8.7\n",
            "216  23.3\n",
            "\n",
            "[102 rows x 1 columns]\n"
          ],
          "name": "stdout"
        }
      ]
    },
    {
      "cell_type": "code",
      "metadata": {
        "id": "n3vIx7-RFsEJ",
        "outputId": "42401376-60cd-4176-bd3d-ae99c92f2109",
        "colab": {
          "base_uri": "https://localhost:8080/"
        }
      },
      "source": [
        "# lets see the mean squared error\r\n",
        "print(\"mean squared error is\"), np.mean((prediction-test_y)**2)"
      ],
      "execution_count": 8,
      "outputs": [
        {
          "output_type": "stream",
          "text": [
            "mean squared error is\n"
          ],
          "name": "stdout"
        },
        {
          "output_type": "execute_result",
          "data": {
            "text/plain": [
              "(None, 0    25.419587\n",
              " dtype: float64)"
            ]
          },
          "metadata": {
            "tags": []
          },
          "execution_count": 8
        }
      ]
    },
    {
      "cell_type": "code",
      "metadata": {
        "id": "I0JQRXRYG2iV"
      },
      "source": [
        ""
      ],
      "execution_count": null,
      "outputs": []
    }
  ]
}