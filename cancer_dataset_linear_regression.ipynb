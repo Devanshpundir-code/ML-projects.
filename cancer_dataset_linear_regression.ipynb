{
  "nbformat": 4,
  "nbformat_minor": 0,
  "metadata": {
    "colab": {
      "name": "cancer dataset linear regression",
      "provenance": [],
      "authorship_tag": "ABX9TyOiHxJgcQ4RBfBTvqOq8eSc",
      "include_colab_link": true
    },
    "kernelspec": {
      "name": "python3",
      "display_name": "Python 3"
    }
  },
  "cells": [
    {
      "cell_type": "markdown",
      "metadata": {
        "id": "view-in-github",
        "colab_type": "text"
      },
      "source": [
        "<a href=\"https://colab.research.google.com/github/Devanshpundir-code/ML-projects./blob/main/cancer_dataset_linear_regression.ipynb\" target=\"_parent\"><img src=\"https://colab.research.google.com/assets/colab-badge.svg\" alt=\"Open In Colab\"/></a>"
      ]
    },
    {
      "cell_type": "markdown",
      "metadata": {
        "id": "dv8OkhDmcnpM"
      },
      "source": [
        "importing data"
      ]
    },
    {
      "cell_type": "code",
      "metadata": {
        "id": "pmbE3gnmcpgd"
      },
      "source": [
        "import pandas as pd \r\n",
        "import numpy as np\r\n",
        "import sklearn \r\n",
        "from sklearn.linear_model import LinearRegression \r\n",
        "from sklearn.datasets import load_breast_cancer\r\n",
        "from sklearn.model_selection import train_test_split\r\n",
        "from sklearn import datasets\r\n",
        "from sklearn import linear_model"
      ],
      "execution_count": 16,
      "outputs": []
    },
    {
      "cell_type": "markdown",
      "metadata": {
        "id": "Xg-X6pjOfrcV"
      },
      "source": [
        "loading data"
      ]
    },
    {
      "cell_type": "code",
      "metadata": {
        "id": "368K-5D-dZGZ"
      },
      "source": [
        "breast = datasets.load_breast_cancer()"
      ],
      "execution_count": 5,
      "outputs": []
    },
    {
      "cell_type": "markdown",
      "metadata": {
        "id": "B7nYxdGbftzs"
      },
      "source": [
        "calssifiying in data and target"
      ]
    },
    {
      "cell_type": "code",
      "metadata": {
        "id": "Rfkac64me7rN"
      },
      "source": [
        "df_x = pd.DataFrame(breast.data, columns=breast.feature_names)\r\n",
        "df_y = pd.DataFrame(breast.target)"
      ],
      "execution_count": 10,
      "outputs": []
    },
    {
      "cell_type": "markdown",
      "metadata": {
        "id": "kD29o4L7f2Zk"
      },
      "source": [
        "our regression"
      ]
    },
    {
      "cell_type": "code",
      "metadata": {
        "colab": {
          "base_uri": "https://localhost:8080/"
        },
        "id": "6lR4-81lfYcc",
        "outputId": "0913ff79-6418-40fe-fedc-9f69bd23b2e0"
      },
      "source": [
        "train_x, test_x, train_y, test_y = train_test_split(df_x, df_y, test_size = 0.2, random_state = 4)\r\n",
        "reg = linear_model.LinearRegression()\r\n",
        "reg.fit(train_x, train_y)"
      ],
      "execution_count": 18,
      "outputs": [
        {
          "output_type": "execute_result",
          "data": {
            "text/plain": [
              "LinearRegression(copy_X=True, fit_intercept=True, n_jobs=None, normalize=False)"
            ]
          },
          "metadata": {
            "tags": []
          },
          "execution_count": 18
        }
      ]
    },
    {
      "cell_type": "markdown",
      "metadata": {
        "id": "nXH7HTpwg2bo"
      },
      "source": [
        "prediction"
      ]
    },
    {
      "cell_type": "code",
      "metadata": {
        "id": "gwSul3eJf7UO"
      },
      "source": [
        "prediction = reg.predict(test_x)"
      ],
      "execution_count": 23,
      "outputs": []
    },
    {
      "cell_type": "markdown",
      "metadata": {
        "id": "u8AmEE5BhA_p"
      },
      "source": [
        "printing value"
      ]
    },
    {
      "cell_type": "code",
      "metadata": {
        "colab": {
          "base_uri": "https://localhost:8080/"
        },
        "id": "U0yT7s9OhAPM",
        "outputId": "72ee0713-f76e-4508-a155-f25244590c23"
      },
      "source": [
        "print(\"Actual value is\", test_y)\r\n",
        "print(\"predicted value is\", prediction[15])"
      ],
      "execution_count": 33,
      "outputs": [
        {
          "output_type": "stream",
          "text": [
            "Actual value is      0\n",
            "340  1\n",
            "382  1\n",
            "300  0\n",
            "262  0\n",
            "363  1\n",
            "..  ..\n",
            "202  0\n",
            "541  1\n",
            "379  0\n",
            "329  0\n",
            "531  1\n",
            "\n",
            "[114 rows x 1 columns]\n",
            "predicted value is [1.14436391]\n"
          ],
          "name": "stdout"
        }
      ]
    },
    {
      "cell_type": "markdown",
      "metadata": {
        "id": "22NxtTWAhiuL"
      },
      "source": [
        "lets find out mean squae error"
      ]
    },
    {
      "cell_type": "code",
      "metadata": {
        "colab": {
          "base_uri": "https://localhost:8080/"
        },
        "id": "IaiC74X1hXrB",
        "outputId": "14333156-a074-49f7-8534-2c16b9c0860b"
      },
      "source": [
        "print(\"mean square error is\", np.mean(prediction-test_y)**2)"
      ],
      "execution_count": 32,
      "outputs": [
        {
          "output_type": "stream",
          "text": [
            "mean square error is 0    0.004814\n",
            "dtype: float64\n"
          ],
          "name": "stdout"
        }
      ]
    },
    {
      "cell_type": "code",
      "metadata": {
        "colab": {
          "base_uri": "https://localhost:8080/",
          "height": 669
        },
        "id": "ItpwntoGi6NC",
        "outputId": "1043674d-03a6-49a5-c62e-4d3004f6136f"
      },
      "source": [
        "test_y.head(20)"
      ],
      "execution_count": 35,
      "outputs": [
        {
          "output_type": "execute_result",
          "data": {
            "text/html": [
              "<div>\n",
              "<style scoped>\n",
              "    .dataframe tbody tr th:only-of-type {\n",
              "        vertical-align: middle;\n",
              "    }\n",
              "\n",
              "    .dataframe tbody tr th {\n",
              "        vertical-align: top;\n",
              "    }\n",
              "\n",
              "    .dataframe thead th {\n",
              "        text-align: right;\n",
              "    }\n",
              "</style>\n",
              "<table border=\"1\" class=\"dataframe\">\n",
              "  <thead>\n",
              "    <tr style=\"text-align: right;\">\n",
              "      <th></th>\n",
              "      <th>0</th>\n",
              "    </tr>\n",
              "  </thead>\n",
              "  <tbody>\n",
              "    <tr>\n",
              "      <th>340</th>\n",
              "      <td>1</td>\n",
              "    </tr>\n",
              "    <tr>\n",
              "      <th>382</th>\n",
              "      <td>1</td>\n",
              "    </tr>\n",
              "    <tr>\n",
              "      <th>300</th>\n",
              "      <td>0</td>\n",
              "    </tr>\n",
              "    <tr>\n",
              "      <th>262</th>\n",
              "      <td>0</td>\n",
              "    </tr>\n",
              "    <tr>\n",
              "      <th>363</th>\n",
              "      <td>1</td>\n",
              "    </tr>\n",
              "    <tr>\n",
              "      <th>157</th>\n",
              "      <td>1</td>\n",
              "    </tr>\n",
              "    <tr>\n",
              "      <th>120</th>\n",
              "      <td>1</td>\n",
              "    </tr>\n",
              "    <tr>\n",
              "      <th>139</th>\n",
              "      <td>1</td>\n",
              "    </tr>\n",
              "    <tr>\n",
              "      <th>99</th>\n",
              "      <td>0</td>\n",
              "    </tr>\n",
              "    <tr>\n",
              "      <th>68</th>\n",
              "      <td>1</td>\n",
              "    </tr>\n",
              "    <tr>\n",
              "      <th>70</th>\n",
              "      <td>0</td>\n",
              "    </tr>\n",
              "    <tr>\n",
              "      <th>396</th>\n",
              "      <td>1</td>\n",
              "    </tr>\n",
              "    <tr>\n",
              "      <th>471</th>\n",
              "      <td>1</td>\n",
              "    </tr>\n",
              "    <tr>\n",
              "      <th>427</th>\n",
              "      <td>1</td>\n",
              "    </tr>\n",
              "    <tr>\n",
              "      <th>378</th>\n",
              "      <td>1</td>\n",
              "    </tr>\n",
              "    <tr>\n",
              "      <th>303</th>\n",
              "      <td>1</td>\n",
              "    </tr>\n",
              "    <tr>\n",
              "      <th>348</th>\n",
              "      <td>1</td>\n",
              "    </tr>\n",
              "    <tr>\n",
              "      <th>490</th>\n",
              "      <td>1</td>\n",
              "    </tr>\n",
              "    <tr>\n",
              "      <th>299</th>\n",
              "      <td>1</td>\n",
              "    </tr>\n",
              "    <tr>\n",
              "      <th>502</th>\n",
              "      <td>1</td>\n",
              "    </tr>\n",
              "  </tbody>\n",
              "</table>\n",
              "</div>"
            ],
            "text/plain": [
              "     0\n",
              "340  1\n",
              "382  1\n",
              "300  0\n",
              "262  0\n",
              "363  1\n",
              "157  1\n",
              "120  1\n",
              "139  1\n",
              "99   0\n",
              "68   1\n",
              "70   0\n",
              "396  1\n",
              "471  1\n",
              "427  1\n",
              "378  1\n",
              "303  1\n",
              "348  1\n",
              "490  1\n",
              "299  1\n",
              "502  1"
            ]
          },
          "metadata": {
            "tags": []
          },
          "execution_count": 35
        }
      ]
    },
    {
      "cell_type": "code",
      "metadata": {
        "id": "5S6528MGjAZM"
      },
      "source": [
        ""
      ],
      "execution_count": null,
      "outputs": []
    }
  ]
}