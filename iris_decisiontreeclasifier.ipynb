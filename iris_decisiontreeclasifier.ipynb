{
  "nbformat": 4,
  "nbformat_minor": 0,
  "metadata": {
    "colab": {
      "name": "iris decisiontreeclasifier",
      "provenance": [],
      "authorship_tag": "ABX9TyNBD1rBaAEwMKDfZrDFd2WI",
      "include_colab_link": true
    },
    "kernelspec": {
      "name": "python3",
      "display_name": "Python 3"
    }
  },
  "cells": [
    {
      "cell_type": "markdown",
      "metadata": {
        "id": "view-in-github",
        "colab_type": "text"
      },
      "source": [
        "<a href=\"https://colab.research.google.com/github/Devanshpundir-code/ML-projects./blob/main/iris_decisiontreeclasifier.ipynb\" target=\"_parent\"><img src=\"https://colab.research.google.com/assets/colab-badge.svg\" alt=\"Open In Colab\"/></a>"
      ]
    },
    {
      "cell_type": "markdown",
      "metadata": {
        "id": "h_inUiTHK6ZB"
      },
      "source": [
        "importing require things"
      ]
    },
    {
      "cell_type": "code",
      "metadata": {
        "id": "OkU4Fx5RBkpU"
      },
      "source": [
        "import sklearn\r\n",
        "from sklearn import datasets\r\n",
        "from sklearn.datasets import load_iris\r\n",
        "import numpy as np\r\n",
        "from sklearn import tree\r\n",
        "remove = [0,50,100]"
      ],
      "execution_count": 1,
      "outputs": []
    },
    {
      "cell_type": "markdown",
      "metadata": {
        "id": "BlB0YUQ9Gezr"
      },
      "source": [
        "### loading and slicing the data set for testing"
      ]
    },
    {
      "cell_type": "code",
      "metadata": {
        "id": "HdIxmejtB2V8"
      },
      "source": [
        "data = datasets.load_iris()\r\n",
        "sliced_target = np.delete(data.target, remove)\r\n",
        "sliced_data = np.delete(data.data, remove, axis = 0)"
      ],
      "execution_count": 2,
      "outputs": []
    },
    {
      "cell_type": "markdown",
      "metadata": {
        "id": "XI1Y3XUKKP_9"
      },
      "source": [
        "### building our classifer"
      ]
    },
    {
      "cell_type": "code",
      "metadata": {
        "id": "E8dtUGW4Hot6"
      },
      "source": [
        "# here we are using decisiontreeclassifier\r\n",
        "clf = tree.DecisionTreeClassifier()\r\n",
        "clf.fit(sliced_data, sliced_target)\r\n",
        "prediction = clf.predict(data.data[remove])\r\n"
      ],
      "execution_count": 3,
      "outputs": []
    },
    {
      "cell_type": "code",
      "metadata": {
        "colab": {
          "base_uri": "https://localhost:8080/"
        },
        "id": "i4P9KMU3Ir1B",
        "outputId": "23b9491a-a853-4034-f854-d247081deae3"
      },
      "source": [
        "print(\"this is our removed data\", data.target[remove])\r\n",
        "print(\"this is our prediction\", prediction)"
      ],
      "execution_count": 4,
      "outputs": [
        {
          "output_type": "stream",
          "text": [
            "this is our removed data [0 1 2]\n",
            "this is our prediction [0 1 2]\n"
          ],
          "name": "stdout"
        }
      ]
    },
    {
      "cell_type": "markdown",
      "metadata": {
        "id": "no0XzrcDLkAW"
      },
      "source": [
        "this is our removed targets/labels"
      ]
    },
    {
      "cell_type": "code",
      "metadata": {
        "id": "P5UuXo3aLsus"
      },
      "source": [
        "\r\n",
        "# print(\"removed labels are\" , data.target[remove]) #here 0 = setosa, 1 = versicolor, 2 = virginica"
      ],
      "execution_count": 5,
      "outputs": []
    },
    {
      "cell_type": "code",
      "metadata": {
        "id": "zM2ptcKhL0dV"
      },
      "source": [
        ""
      ],
      "execution_count": 5,
      "outputs": []
    }
  ]
}