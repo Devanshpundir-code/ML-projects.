{
  "nbformat": 4,
  "nbformat_minor": 0,
  "metadata": {
    "colab": {
      "name": "Diabetes dataset regression",
      "provenance": [],
      "collapsed_sections": [],
      "authorship_tag": "ABX9TyNRC1UVs3Jc/Q3qbTy4Gzem",
      "include_colab_link": true
    },
    "kernelspec": {
      "name": "python3",
      "display_name": "Python 3"
    }
  },
  "cells": [
    {
      "cell_type": "markdown",
      "metadata": {
        "id": "view-in-github",
        "colab_type": "text"
      },
      "source": [
        "<a href=\"https://colab.research.google.com/github/Devanshpundir-code/ML-projects./blob/main/Diabetes_dataset_regression.ipynb\" target=\"_parent\"><img src=\"https://colab.research.google.com/assets/colab-badge.svg\" alt=\"Open In Colab\"/></a>"
      ]
    },
    {
      "cell_type": "code",
      "metadata": {
        "id": "-iOHm2C_jCJE"
      },
      "source": [
        "import sklearn \r\n",
        "from sklearn import datasets \r\n",
        "from sklearn.datasets import load_boston\r\n",
        "import numpy as np \r\n",
        "import pandas as pd\r\n",
        "from sklearn import linear_model\r\n",
        "from sklearn.linear_model import LinearRegression\r\n",
        "from sklearn.model_selection import train_test_split"
      ],
      "execution_count": 1,
      "outputs": []
    },
    {
      "cell_type": "markdown",
      "metadata": {
        "id": "M2umy5taj_yc"
      },
      "source": [
        "loading data\r\n"
      ]
    },
    {
      "cell_type": "code",
      "metadata": {
        "id": "4-QUUwMKjY1j"
      },
      "source": [
        "diabetes = datasets.load_diabetes()"
      ],
      "execution_count": 2,
      "outputs": []
    },
    {
      "cell_type": "markdown",
      "metadata": {
        "id": "wR9FNJAxkUPY"
      },
      "source": [
        "spliting into data and target "
      ]
    },
    {
      "cell_type": "code",
      "metadata": {
        "id": "hEtsUQmLkLNp"
      },
      "source": [
        "df_x = pd.DataFrame(diabetes.data, columns=diabetes.feature_names)\r\n",
        "df_y = pd.DataFrame(diabetes.target)"
      ],
      "execution_count": 3,
      "outputs": []
    },
    {
      "cell_type": "markdown",
      "metadata": {
        "id": "jN4pBFexlWjD"
      },
      "source": [
        "splitting our data into test and train "
      ]
    },
    {
      "cell_type": "code",
      "metadata": {
        "id": "h00a-Kkkk7E0"
      },
      "source": [
        "train_x, test_x, train_y, test_y = train_test_split(df_x, df_y, test_size = 0.2, random_state = 4)"
      ],
      "execution_count": 4,
      "outputs": []
    },
    {
      "cell_type": "markdown",
      "metadata": {
        "id": "3Ag6y90WlkuA"
      },
      "source": [
        "bulding our regresser "
      ]
    },
    {
      "cell_type": "code",
      "metadata": {
        "colab": {
          "base_uri": "https://localhost:8080/"
        },
        "id": "DC27k8eDlQLp",
        "outputId": "e62f50da-c674-4ad9-c4e2-4553aaccc099"
      },
      "source": [
        "reg = linear_model.LinearRegression()\r\n",
        "reg.fit(train_x, train_y)"
      ],
      "execution_count": 5,
      "outputs": [
        {
          "output_type": "execute_result",
          "data": {
            "text/plain": [
              "LinearRegression(copy_X=True, fit_intercept=True, n_jobs=None, normalize=False)"
            ]
          },
          "metadata": {
            "tags": []
          },
          "execution_count": 5
        }
      ]
    },
    {
      "cell_type": "markdown",
      "metadata": {
        "id": "VPF2xCd7l9ib"
      },
      "source": [
        "prediction"
      ]
    },
    {
      "cell_type": "code",
      "metadata": {
        "id": "3whod3Cwlv7B"
      },
      "source": [
        "prediction = reg.predict(test_x)"
      ],
      "execution_count": 6,
      "outputs": []
    },
    {
      "cell_type": "code",
      "metadata": {
        "colab": {
          "base_uri": "https://localhost:8080/"
        },
        "id": "qCh3rtTImGLR",
        "outputId": "aee32d71-89d4-46ef-b0ce-e7096a460981"
      },
      "source": [
        "print(\"the prediction is \", prediction[2])\r\n",
        "print(\"the actual value is\", test_y)"
      ],
      "execution_count": 7,
      "outputs": [
        {
          "output_type": "stream",
          "text": [
            "the prediction is  [174.89737143]\n",
            "the actual value is          0\n",
            "55   128.0\n",
            "11    69.0\n",
            "415  174.0\n",
            "406   72.0\n",
            "369  167.0\n",
            "..     ...\n",
            "62    52.0\n",
            "211   70.0\n",
            "108  232.0\n",
            "223  150.0\n",
            "221   93.0\n",
            "\n",
            "[89 rows x 1 columns]\n"
          ],
          "name": "stdout"
        }
      ]
    },
    {
      "cell_type": "code",
      "metadata": {
        "id": "H1UGOuDameHR"
      },
      "source": [
        ""
      ],
      "execution_count": 7,
      "outputs": []
    }
  ]
}